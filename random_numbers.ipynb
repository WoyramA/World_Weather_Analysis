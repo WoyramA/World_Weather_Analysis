{
 "cells": [
  {
   "cell_type": "code",
   "execution_count": 3,
   "id": "a0580862",
   "metadata": {},
   "outputs": [],
   "source": [
    "import random"
   ]
  },
  {
   "cell_type": "code",
   "execution_count": 2,
   "id": "16e70285",
   "metadata": {},
   "outputs": [
    {
     "data": {
      "text/plain": [
       "0.08749105653413647"
      ]
     },
     "execution_count": 2,
     "metadata": {},
     "output_type": "execute_result"
    }
   ],
   "source": [
    "# Using the random function\n",
    "random.random()"
   ]
  },
  {
   "cell_type": "code",
   "execution_count": 3,
   "id": "50d70816",
   "metadata": {},
   "outputs": [
    {
     "data": {
      "text/plain": [
       "-66"
      ]
     },
     "execution_count": 3,
     "metadata": {},
     "output_type": "execute_result"
    }
   ],
   "source": [
    "# Using the randomint function\n",
    "random.randint(-90,90)"
   ]
  },
  {
   "cell_type": "code",
   "execution_count": 4,
   "id": "babc224f",
   "metadata": {},
   "outputs": [
    {
     "data": {
      "text/plain": [
       "-79.96177312515252"
      ]
     },
     "execution_count": 4,
     "metadata": {},
     "output_type": "execute_result"
    }
   ],
   "source": [
    "# Combining random.randint and random.random to generate a floating -point decimal\n",
    "random_number = random.randint(-90,89) + random.random()\n",
    "random_number"
   ]
  },
  {
   "cell_type": "code",
   "execution_count": 5,
   "id": "61a5bda4",
   "metadata": {},
   "outputs": [],
   "source": [
    "# Generating random latitudes between -90 and 98\n",
    "x = 1\n",
    "latitudes = []\n",
    "while x < 11:\n",
    "    random_lat = random.randint(-90,89) + random.random()\n",
    "    latitudes.append(random_lat)\n",
    "    x += 1"
   ]
  },
  {
   "cell_type": "code",
   "execution_count": 6,
   "id": "a7bada22",
   "metadata": {},
   "outputs": [],
   "source": [
    "# Generating random latitudes between -180 and 180\n",
    "x = 1\n",
    "latitudes = []\n",
    "while x < 11:\n",
    "    random_lat = random.randint(-180,180) + random.random()\n",
    "    latitudes.append(random_lat)\n",
    "    x += 1"
   ]
  },
  {
   "cell_type": "code",
   "execution_count": 7,
   "id": "4ad692d5",
   "metadata": {},
   "outputs": [
    {
     "data": {
      "text/plain": [
       "-9"
      ]
     },
     "execution_count": 7,
     "metadata": {},
     "output_type": "execute_result"
    }
   ],
   "source": [
    "# Using randrange function\n",
    "random.randrange(-9,9,2)"
   ]
  },
  {
   "cell_type": "code",
   "execution_count": 9,
   "id": "7efb4d4a",
   "metadata": {},
   "outputs": [
    {
     "data": {
      "text/plain": [
       "32"
      ]
     },
     "execution_count": 9,
     "metadata": {},
     "output_type": "execute_result"
    }
   ],
   "source": [
    "# Generating increments of given integer value using randrange function with step parameter\n",
    "random.randrange(-90, 90, step=1)"
   ]
  },
  {
   "cell_type": "code",
   "execution_count": 12,
   "id": "d2dfa354",
   "metadata": {},
   "outputs": [
    {
     "data": {
      "text/plain": [
       "81"
      ]
     },
     "execution_count": 12,
     "metadata": {},
     "output_type": "execute_result"
    }
   ],
   "source": [
    "# Generating increments of given integer value using randrange function with another step parameter\n",
    "random.randrange(-90, 90, step=3)"
   ]
  },
  {
   "cell_type": "code",
   "execution_count": 8,
   "id": "9777f12d",
   "metadata": {},
   "outputs": [
    {
     "data": {
      "text/plain": [
       "4.510585519325572"
      ]
     },
     "execution_count": 8,
     "metadata": {},
     "output_type": "execute_result"
    }
   ],
   "source": [
    "# Using the uniform function\n",
    "random.uniform(-10,10)"
   ]
  },
  {
   "cell_type": "code",
   "execution_count": 13,
   "id": "1b21e7f8",
   "metadata": {},
   "outputs": [
    {
     "data": {
      "text/plain": [
       "-15.33107808329494"
      ]
     },
     "execution_count": 13,
     "metadata": {},
     "output_type": "execute_result"
    }
   ],
   "source": [
    "# Generating a floating-point decimal numbere between two given numbers using uniform function\n",
    "random.uniform(-90,90)"
   ]
  },
  {
   "cell_type": "code",
   "execution_count": 4,
   "id": "b4869585",
   "metadata": {},
   "outputs": [],
   "source": [
    "import numpy as np"
   ]
  },
  {
   "cell_type": "code",
   "execution_count": 15,
   "id": "5b02bdaa",
   "metadata": {},
   "outputs": [
    {
     "data": {
      "text/plain": [
       "63.901353352358996"
      ]
     },
     "execution_count": 15,
     "metadata": {},
     "output_type": "execute_result"
    }
   ],
   "source": [
    "# Generate floating-point decimal number between -90.000 and 90.000\n",
    "np.random.uniform(-90.000, 90.000)"
   ]
  },
  {
   "cell_type": "code",
   "execution_count": 16,
   "id": "08c3bc9f",
   "metadata": {},
   "outputs": [
    {
     "data": {
      "text/plain": [
       "90.0"
      ]
     },
     "execution_count": 16,
     "metadata": {},
     "output_type": "execute_result"
    }
   ],
   "source": [
    "# Option 2\n",
    "np.random.uniform(low=90, high=90)"
   ]
  },
  {
   "cell_type": "code",
   "execution_count": 17,
   "id": "78abf4ed",
   "metadata": {},
   "outputs": [
    {
     "data": {
      "text/plain": [
       "array([ 88.66190304,  -0.26234546,  84.26991824,  66.20918977,\n",
       "       -40.4669508 , -88.90984913,  18.29008181,  67.69151722,\n",
       "       -73.68740167, -36.19745653,  59.10147383,  45.88996655,\n",
       "        44.50481665,  11.86183205, -46.12868709,  87.3991702 ,\n",
       "        84.3256803 , -32.91704287,  46.9607528 , -61.55485263,\n",
       "       -62.70154155, -66.9028474 ,  26.84561071, -28.00957823,\n",
       "        29.2367864 ,  11.90382846,  67.84763411, -13.41292361,\n",
       "        81.85690894,  55.67357682,  13.65106525,   4.32091882,\n",
       "       -89.90037904, -78.67812845, -46.02486942,   1.95298808,\n",
       "        37.70657397,  34.37593799, -19.65826056, -63.17690154,\n",
       "        32.50036919, -11.19249343, -40.88292477,  23.43430208,\n",
       "        76.14653219,  24.16986237,  44.99937372,  26.59863829,\n",
       "        30.90672215, -55.31563322])"
      ]
     },
     "execution_count": 17,
     "metadata": {},
     "output_type": "execute_result"
    }
   ],
   "source": [
    "# Generating more than one floating-point decimal number between -90 and 90, adding the size parameter\n",
    "np.random.uniform(-90.000, 90.000, size=50)"
   ]
  },
  {
   "cell_type": "code",
   "execution_count": null,
   "id": "b04b6bae",
   "metadata": {},
   "outputs": [],
   "source": [
    "# Import timeit\n",
    "import timeit"
   ]
  },
  {
   "cell_type": "code",
   "execution_count": 19,
   "id": "35e29e20",
   "metadata": {},
   "outputs": [
    {
     "name": "stdout",
     "output_type": "stream",
     "text": [
      "51.9 µs ± 803 ns per loop (mean ± std. dev. of 7 runs, 10000 loops each)\n"
     ]
    }
   ],
   "source": [
    "# timing how long it takes in generating more than one floating-point decimal number between -90 and 90 with size to 1500 using timeit\n",
    "%timeit np.random.uniform(-90.000,90.000, size=1500)"
   ]
  },
  {
   "cell_type": "code",
   "execution_count": null,
   "id": "99786024",
   "metadata": {},
   "outputs": [],
   "source": [
    "# Run the while loop as a function\n",
    "def latitudes(size):\n",
    "    latitudes = []\n",
    "    x = 0\n",
    "    while x < (size):\n",
    "        random_lat = random.randint(-90, 90) + random.random()\n",
    "        latitudes.append(random_lat)\n",
    "        x += 1\n",
    "    return latitudes\n",
    "\n",
    "# Call the function with 1500.\n",
    "%timeit latitudes(1500)"
   ]
  },
  {
   "cell_type": "code",
   "execution_count": null,
   "id": "5580d087",
   "metadata": {},
   "outputs": [],
   "source": [
    "# Refactor the code for the while loop with the %timeit magic command and write a for loop that will generate the 1,500 latitudes.\n",
    "latitudes = []\n",
    "\n",
    "# Generate 1500 random latitudes\n",
    "for i in range(1500):\n",
    "  latitude = np.random.uniform(-90, 90)\n",
    "  latitudes.append(latitude)\n",
    "print(latitude)"
   ]
  },
  {
   "cell_type": "code",
   "execution_count": 6,
   "id": "bbf56afd",
   "metadata": {},
   "outputs": [],
   "source": [
    " # Here is a refactored version of the while loop using the %timeit magic command:\n",
    "latitudes = []\n",
    "\n",
    "# Generate 1500 random latitudes\n",
    "while len(latitudes) < 1500:\n",
    "  latitude = np.random.uniform(-90, 90)\n",
    "  latitudes.append(latitude)"
   ]
  },
  {
   "cell_type": "code",
   "execution_count": 5,
   "id": "f780b906",
   "metadata": {},
   "outputs": [
    {
     "data": {
      "text/plain": [
       "array([65.08014468, 12.17828758, 66.70576385, ..., 64.30127905,\n",
       "       61.73322644, 69.42853969])"
      ]
     },
     "execution_count": 5,
     "metadata": {},
     "output_type": "execute_result"
    }
   ],
   "source": [
    "np.random.uniform(-90.000, 90.000, size=1500)"
   ]
  }
 ],
 "metadata": {
  "kernelspec": {
   "display_name": "PythonData",
   "language": "python",
   "name": "pythondata"
  },
  "language_info": {
   "codemirror_mode": {
    "name": "ipython",
    "version": 3
   },
   "file_extension": ".py",
   "mimetype": "text/x-python",
   "name": "python",
   "nbconvert_exporter": "python",
   "pygments_lexer": "ipython3",
   "version": "3.7.13"
  }
 },
 "nbformat": 4,
 "nbformat_minor": 5
}
